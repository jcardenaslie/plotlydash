{
 "cells": [
  {
   "cell_type": "code",
   "execution_count": 85,
   "metadata": {},
   "outputs": [],
   "source": [
    "import pandas as pd\n",
    "import numpy as np\n",
    "import matplotlib.pyplot as plt"
   ]
  },
  {
   "cell_type": "code",
   "execution_count": 86,
   "metadata": {},
   "outputs": [],
   "source": [
    "cot_all = pd.read_excel('cotizaciones_all.xlsx')\n",
    "neg_all = pd.read_excel('negocios_all.xlsx')\n",
    "cot_mod = pd.read_excel('cotizaciones_all.xlsx')\n",
    "neg_mod = pd.read_excel('negocios_all.xlsx')"
   ]
  },
  {
   "cell_type": "code",
   "execution_count": 87,
   "metadata": {},
   "outputs": [
    {
     "name": "stdout",
     "output_type": "stream",
     "text": [
      "cot Index(['ID', 'Fecha Cotizacion', 'Medio', 'Tipo de Medio', 'Proyecto', 'Etapa',\n",
      "       'Productos', 'Presencial', 'Remoto', 'Jefe Comercial',\n",
      "       'Ejecutivo Comercial', 'Total Productos', 'Descuentos',\n",
      "       'Valor Final Venta', 'RUT', 'Nombre', 'Apellido 1', 'Apellido 2',\n",
      "       'Nombre Completo', 'Telefono', 'Celular', 'Direccion', 'Region',\n",
      "       'Provincia', 'Comuna', 'Correo Electronico', 'Sexo', 'Estado Civil',\n",
      "       'Rango Edad', 'Fecha Nacimiento', 'Tipo Cliente', 'Razon Social',\n",
      "       'Giro', 'Nacionalidad', 'N° Grupo Familiar', 'Actividad', 'Cargo',\n",
      "       'Situacion Laboral', 'Empleador', 'Antiguedad Laboral', 'Profesión'],\n",
      "      dtype='object')\n",
      "neg Index(['ID', 'Fecha Cotizacion', 'ID Cotizacion', 'Medio', 'Tipo de Medio',\n",
      "       'Proyecto', 'Etapa', 'Productos', 'Jefe Comercial',\n",
      "       'Ejecutivo Comercial', 'Total Productos', 'Descuentos',\n",
      "       'Valor Final Venta', 'Estado', 'Estado Comercial', 'Fecha Promesa',\n",
      "       'Fecha Escritura', 'Fecha Desistimiento', 'Fecha Resciliacion',\n",
      "       'Motivo Desis/Resc', 'Description Desis/Resc',\n",
      "       'Resciliacion por Modificacion', 'RUT', 'Nombre', 'Apellido 1',\n",
      "       'Apellido 2', 'Nombre Completo', 'Telefono', 'Celular', 'Direccion',\n",
      "       'Region', 'Provincia', 'Comuna', 'Correo Electronico', 'Sexo',\n",
      "       'Estado Civil', 'Rango Edad', 'Fecha Nacimiento', 'Tipo Cliente',\n",
      "       'Razon Social', 'Giro', 'Nacionalidad', 'N° Grupo Familiar',\n",
      "       'Actividad', 'Cargo', 'Situacion Laboral', 'Empleador',\n",
      "       'Antiguedad Laboral', 'Profesión'],\n",
      "      dtype='object')\n"
     ]
    }
   ],
   "source": [
    "cot_cols = cot_all.columns\n",
    "neg_cols = neg_all.columns\n",
    "print('cot', cot_cols)\n",
    "print('neg', neg_cols)"
   ]
  },
  {
   "cell_type": "code",
   "execution_count": 88,
   "metadata": {},
   "outputs": [
    {
     "name": "stdout",
     "output_type": "stream",
     "text": [
      "No en cotizaciones:  ['ID Cotizacion', 'Estado', 'Estado Comercial', 'Fecha Promesa', 'Fecha Escritura', 'Fecha Desistimiento', 'Fecha Resciliacion', 'Motivo Desis/Resc', 'Description Desis/Resc', 'Resciliacion por Modificacion']\n"
     ]
    }
   ],
   "source": [
    "# columnas de cot_all en neg_all\n",
    "not_in = [item for item in neg_cols if item not in cot_cols]\n",
    "print(\"No en cotizaciones: \",not_in)\n",
    "neg_mod.drop(not_in, axis=1, inplace=True)"
   ]
  },
  {
   "cell_type": "code",
   "execution_count": 89,
   "metadata": {},
   "outputs": [
    {
     "name": "stdout",
     "output_type": "stream",
     "text": [
      "No en negocios: ['Presencial', 'Remoto']\n"
     ]
    }
   ],
   "source": [
    "# columnas de cot_all que no estan en neg_all\n",
    "not_in = [item for item in cot_cols if item not in neg_cols]\n",
    "print(\"No en negocios:\",not_in)\n",
    "cot_mod.drop(not_in, axis=1, inplace=True)"
   ]
  },
  {
   "cell_type": "code",
   "execution_count": 27,
   "metadata": {},
   "outputs": [
    {
     "data": {
      "text/plain": [
       "Index(['ID', 'Fecha Cotizacion', 'Medio', 'Tipo de Medio', 'Proyecto', 'Etapa',\n",
       "       'Productos', 'Jefe Comercial', 'Ejecutivo Comercial', 'Total Productos',\n",
       "       'Descuentos', 'Valor Final Venta', 'RUT', 'Nombre', 'Apellido 1',\n",
       "       'Apellido 2', 'Nombre Completo', 'Telefono', 'Celular', 'Direccion',\n",
       "       'Region', 'Provincia', 'Comuna', 'Correo Electronico', 'Sexo',\n",
       "       'Estado Civil', 'Rango Edad', 'Fecha Nacimiento', 'Tipo Cliente',\n",
       "       'Razon Social', 'Giro', 'Nacionalidad', 'N° Grupo Familiar',\n",
       "       'Actividad', 'Cargo', 'Situacion Laboral', 'Empleador',\n",
       "       'Antiguedad Laboral', 'Profesión'],\n",
       "      dtype='object')"
      ]
     },
     "execution_count": 27,
     "metadata": {},
     "output_type": "execute_result"
    }
   ],
   "source": [
    "cot_mod.columns"
   ]
  },
  {
   "cell_type": "code",
   "execution_count": 90,
   "metadata": {},
   "outputs": [],
   "source": [
    "cot_mod['cot o neg'] = 'cot'\n",
    "neg_mod['cot o neg'] = 'neg'"
   ]
  },
  {
   "cell_type": "code",
   "execution_count": 96,
   "metadata": {},
   "outputs": [],
   "source": [
    "cot_neg = cot_mod.append(neg_mod)\n",
    "cot_neg_fechas = cot_neg['Fecha Cotizacion'].tolist()\n",
    "cot_neg['Fecha'] = [str(x).split(' ')[0] for x in cot_neg_fechas]\n",
    "cot_neg['Hora'] = [str(x).split(' ')[1] for x in cot_neg_fechas]"
   ]
  },
  {
   "cell_type": "code",
   "execution_count": 75,
   "metadata": {},
   "outputs": [],
   "source": [
    "cot_neg.set_index(['RUT','Fecha Cotizacion'], inplace=True)"
   ]
  },
  {
   "cell_type": "code",
   "execution_count": 77,
   "metadata": {},
   "outputs": [
    {
     "data": {
      "text/plain": [
       "RUT         Fecha Cotizacion       \n",
       "14273551-2  2017-07-27 15:46:54.000    cot\n",
       "13309954-9  2017-07-29 13:37:05.000    cot\n",
       "14583354-k  2017-07-29 16:41:15.000    cot\n",
       "7188659-k   2017-07-31 11:01:57.000    cot\n",
       "13377606-0  2017-07-31 15:52:32.000    cot\n",
       "16863328-9  2017-08-02 18:01:42.000    cot\n",
       "17046821-k  2017-08-03 11:32:31.517    cot\n",
       "            2017-08-03 12:47:30.930    cot\n",
       "13951239-1  2017-08-04 17:18:26.000    cot\n",
       "12920930-5  2017-08-10 19:19:25.000    cot\n",
       "            2017-08-10 19:25:13.197    cot\n",
       "10076241-2  2017-08-11 16:07:35.000    cot\n",
       "15625979-9  2017-08-11 16:13:40.000    cot\n",
       "9879501-4   2017-08-11 16:50:29.000    cot\n",
       "17346494-0  2017-08-11 17:07:27.000    cot\n",
       "10065290-0  2017-08-11 18:08:43.000    cot\n",
       "16763770-1  2017-08-11 18:16:08.000    cot\n",
       "13842771-4  2017-08-11 18:19:38.000    cot\n",
       "6521908-5   2017-08-11 18:22:18.000    cot\n",
       "16282675-1  2017-08-11 18:26:21.000    cot\n",
       "16240108-4  2017-08-11 18:28:40.000    cot\n",
       "12524132-8  2017-08-11 19:04:41.000    cot\n",
       "16863328-9  2017-08-12 19:43:42.000    cot\n",
       "19270890-7  2017-08-14 13:01:39.000    cot\n",
       "15912017-1  2017-08-14 15:38:41.000    cot\n",
       "12523213-2  2017-08-14 18:56:50.000    cot\n",
       "            2017-08-14 19:00:51.540    cot\n",
       "15912197-6  2017-08-15 12:15:37.000    cot\n",
       "17041530-2  2017-08-15 16:57:32.000    cot\n",
       "8399766-4   2017-08-16 16:27:13.000    cot\n",
       "                                      ... \n",
       "8213765-3   2018-04-09 12:07:31.740    neg\n",
       "8695462-1   2018-04-13 17:31:43.287    neg\n",
       "17617568-0  2018-04-14 13:43:15.057    neg\n",
       "16863897-3  2018-04-14 14:47:18.030    neg\n",
       "13077929-8  2018-04-14 16:34:48.727    neg\n",
       "11721458-3  2018-04-14 18:16:59.820    neg\n",
       "9594006-4   2018-04-15 12:58:38.570    neg\n",
       "14280190-6  2018-04-15 15:38:26.573    neg\n",
       "16256142-1  2018-04-15 15:47:48.817    neg\n",
       "5371822-1   2018-04-15 15:56:14.300    neg\n",
       "14354476-1  2018-04-15 16:17:05.150    neg\n",
       "18815516-2  2018-04-15 16:51:24.627    neg\n",
       "10731863-1  2018-04-15 17:08:18.593    neg\n",
       "18142459-1  2018-04-15 17:15:56.960    neg\n",
       "17043444-7  2018-04-15 20:26:52.110    neg\n",
       "14404410-K  2018-04-20 12:08:48.903    neg\n",
       "17346785-0  2018-04-20 18:09:46.577    neg\n",
       "17617568-0  2018-04-20 19:32:22.697    neg\n",
       "14375129-5  2018-04-22 17:24:34.047    neg\n",
       "16256142-1  2018-04-23 19:03:47.600    neg\n",
       "17955885-8  2018-04-24 13:17:33.180    neg\n",
       "16515165-8  2018-04-26 16:10:18.067    neg\n",
       "8104482-1   2018-04-26 16:50:07.440    neg\n",
       "17043876-0  2018-04-27 16:42:10.457    neg\n",
       "17346785-0  2018-04-28 09:22:03.600    neg\n",
       "16011175-5  2018-05-11 12:06:57.947    neg\n",
       "15516786-6  2018-05-14 13:43:41.010    neg\n",
       "15190384-3  2018-05-14 17:49:18.737    neg\n",
       "15173211-9  2018-05-20 18:08:53.613    neg\n",
       "            2018-05-20 18:10:29.167    neg\n",
       "Name: cot o neg, Length: 18939, dtype: object"
      ]
     },
     "execution_count": 77,
     "metadata": {},
     "output_type": "execute_result"
    }
   ],
   "source": [
    "cot_neg['cot o neg']"
   ]
  },
  {
   "cell_type": "code",
   "execution_count": null,
   "metadata": {},
   "outputs": [],
   "source": [
    "cot_neg[cot_neg['cot o neg']]"
   ]
  },
  {
   "cell_type": "code",
   "execution_count": 68,
   "metadata": {},
   "outputs": [
    {
     "data": {
      "text/plain": [
       "<pandas.core.groupby.DataFrameGroupBy object at 0x00000224C06AD240>"
      ]
     },
     "execution_count": 68,
     "metadata": {},
     "output_type": "execute_result"
    }
   ],
   "source": [
    "personas_group = cot_neg.groupby('RUT')\n",
    "personas_group"
   ]
  },
  {
   "cell_type": "code",
   "execution_count": 64,
   "metadata": {},
   "outputs": [],
   "source": [
    "personas_dict = dict()\n",
    "for group, frame in personas_group:\n",
    "#     print(group)\n",
    "#     print(frame.shape[0])\n",
    "    personas_dict[group] = dict()\n",
    "    personas_dict[group]['#cot'] = frame.shape[0]\n",
    "    for f in frame['Fecha Cotizacion'].tolist():\n",
    "        personas_dict[group]['Fecha'] = f\n",
    "    for f in frame['Fecha Cotizacion'].tolist():\n",
    "        personas_dict[group]['cotneg'] = f"
   ]
  },
  {
   "cell_type": "code",
   "execution_count": 62,
   "metadata": {},
   "outputs": [
    {
     "data": {
      "text/plain": [
       "[6180535, 9559524, 156778804, '000000000-0']"
      ]
     },
     "execution_count": 62,
     "metadata": {},
     "output_type": "execute_result"
    }
   ],
   "source": [
    "ruts = list(personas_dict.keys())\n",
    "ruts[:4]"
   ]
  },
  {
   "cell_type": "code",
   "execution_count": 63,
   "metadata": {},
   "outputs": [
    {
     "data": {
      "text/plain": [
       "Timestamp('2017-10-30 16:49:35')"
      ]
     },
     "execution_count": 63,
     "metadata": {},
     "output_type": "execute_result"
    }
   ],
   "source": [
    "personas_dict[ruts[0]]['Fecha']"
   ]
  },
  {
   "cell_type": "code",
   "execution_count": null,
   "metadata": {},
   "outputs": [],
   "source": []
  }
 ],
 "metadata": {
  "kernelspec": {
   "display_name": "Python 3",
   "language": "python",
   "name": "python3"
  },
  "language_info": {
   "codemirror_mode": {
    "name": "ipython",
    "version": 3
   },
   "file_extension": ".py",
   "mimetype": "text/x-python",
   "name": "python",
   "nbconvert_exporter": "python",
   "pygments_lexer": "ipython3",
   "version": "3.6.4"
  }
 },
 "nbformat": 4,
 "nbformat_minor": 2
}
